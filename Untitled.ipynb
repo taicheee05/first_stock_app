{
 "cells": [
  {
   "cell_type": "code",
   "execution_count": 1,
   "metadata": {},
   "outputs": [
    {
     "name": "stdout",
     "output_type": "stream",
     "text": [
      "Requirement already satisfied: altair in c:\\users\\mt199\\anaconda3\\lib\\site-packages (4.1.0)\n",
      "Requirement already satisfied: jinja2 in c:\\users\\mt199\\anaconda3\\lib\\site-packages (from altair) (2.11.2)\n",
      "Requirement already satisfied: entrypoints in c:\\users\\mt199\\anaconda3\\lib\\site-packages (from altair) (0.3)\n",
      "Requirement already satisfied: numpy in c:\\users\\mt199\\anaconda3\\lib\\site-packages (from altair) (1.19.2)\n",
      "Requirement already satisfied: jsonschema in c:\\users\\mt199\\anaconda3\\lib\\site-packages (from altair) (3.2.0)\n",
      "Requirement already satisfied: pandas>=0.18 in c:\\users\\mt199\\anaconda3\\lib\\site-packages (from altair) (1.1.3)\n",
      "Requirement already satisfied: toolz in c:\\users\\mt199\\anaconda3\\lib\\site-packages (from altair) (0.11.1)\n",
      "Requirement already satisfied: MarkupSafe>=0.23 in c:\\users\\mt199\\anaconda3\\lib\\site-packages (from jinja2->altair) (1.1.1)\n",
      "Requirement already satisfied: pyrsistent>=0.14.0 in c:\\users\\mt199\\anaconda3\\lib\\site-packages (from jsonschema->altair) (0.17.3)\n",
      "Requirement already satisfied: setuptools in c:\\users\\mt199\\anaconda3\\lib\\site-packages (from jsonschema->altair) (50.3.1.post20201107)\n",
      "Requirement already satisfied: six>=1.11.0 in c:\\users\\mt199\\anaconda3\\lib\\site-packages (from jsonschema->altair) (1.15.0)\n",
      "Requirement already satisfied: attrs>=17.4.0 in c:\\users\\mt199\\anaconda3\\lib\\site-packages (from jsonschema->altair) (20.3.0)\n",
      "Requirement already satisfied: pytz>=2017.2 in c:\\users\\mt199\\anaconda3\\lib\\site-packages (from pandas>=0.18->altair) (2020.1)\n",
      "Requirement already satisfied: python-dateutil>=2.7.3 in c:\\users\\mt199\\anaconda3\\lib\\site-packages (from pandas>=0.18->altair) (2.8.1)\n"
     ]
    }
   ],
   "source": [
    "!pip install altair"
   ]
  },
  {
   "cell_type": "code",
   "execution_count": 2,
   "metadata": {},
   "outputs": [
    {
     "ename": "NameError",
     "evalue": "name 'df' is not defined",
     "output_type": "error",
     "traceback": [
      "\u001b[1;31m---------------------------------------------------------------------------\u001b[0m",
      "\u001b[1;31mNameError\u001b[0m                                 Traceback (most recent call last)",
      "\u001b[1;32m<ipython-input-2-00cf07b74dcd>\u001b[0m in \u001b[0;36m<module>\u001b[1;34m\u001b[0m\n\u001b[1;32m----> 1\u001b[1;33m \u001b[0mdf\u001b[0m\u001b[1;33m\u001b[0m\u001b[1;33m\u001b[0m\u001b[0m\n\u001b[0m",
      "\u001b[1;31mNameError\u001b[0m: name 'df' is not defined"
     ]
    }
   ],
   "source": [
    "df"
   ]
  },
  {
   "cell_type": "code",
   "execution_count": null,
   "metadata": {},
   "outputs": [],
   "source": []
  }
 ],
 "metadata": {
  "kernelspec": {
   "display_name": "Python 3",
   "language": "python",
   "name": "python3"
  },
  "language_info": {
   "codemirror_mode": {
    "name": "ipython",
    "version": 3
   },
   "file_extension": ".py",
   "mimetype": "text/x-python",
   "name": "python",
   "nbconvert_exporter": "python",
   "pygments_lexer": "ipython3",
   "version": "3.8.5"
  }
 },
 "nbformat": 4,
 "nbformat_minor": 4
}
